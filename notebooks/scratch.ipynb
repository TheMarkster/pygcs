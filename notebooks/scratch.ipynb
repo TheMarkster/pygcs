{
 "cells": [
  {
   "cell_type": "code",
   "execution_count": 1,
   "id": "e8c61d43",
   "metadata": {},
   "outputs": [],
   "source": [
    "import serial\n",
    "import serial.tools.list_ports as list_ports"
   ]
  },
  {
   "cell_type": "code",
   "execution_count": 6,
   "id": "1c0dedb2",
   "metadata": {},
   "outputs": [
    {
     "name": "stdout",
     "output_type": "stream",
     "text": [
      "/dev/ttyUSB0 - USB Serial\n",
      "/dev/ttyACM0 - Shapeoko 5 - CDC class\n",
      "/dev/ttyAMA10 - ttyAMA10\n"
     ]
    }
   ],
   "source": [
    "ports = list_ports.comports()\n",
    "for p in ports:\n",
    "    print(str(p))"
   ]
  },
  {
   "cell_type": "code",
   "execution_count": null,
   "id": "fb3a0eac",
   "metadata": {},
   "outputs": [],
   "source": [
    "device = '/dev/ttyACM0'"
   ]
  }
 ],
 "metadata": {
  "kernelspec": {
   "display_name": "venv",
   "language": "python",
   "name": "python3"
  },
  "language_info": {
   "codemirror_mode": {
    "name": "ipython",
    "version": 3
   },
   "file_extension": ".py",
   "mimetype": "text/x-python",
   "name": "python",
   "nbconvert_exporter": "python",
   "pygments_lexer": "ipython3",
   "version": "3.11.2"
  }
 },
 "nbformat": 4,
 "nbformat_minor": 5
}
